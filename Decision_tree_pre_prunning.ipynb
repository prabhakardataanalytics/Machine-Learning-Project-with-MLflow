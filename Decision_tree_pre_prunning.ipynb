{
 "cells": [
  {
   "cell_type": "code",
   "execution_count": 1,
   "id": "d4850154",
   "metadata": {},
   "outputs": [],
   "source": [
    "from sklearn.datasets import load_breast_cancer\n",
    "from sklearn.model_selection import train_test_split\n",
    "from sklearn import tree\n",
    "from sklearn.metrics import accuracy_score\n",
    "\n",
    "# Visualization to see how our decision tree look \n",
    "import graphviz"
   ]
  },
  {
   "cell_type": "markdown",
   "id": "c49a6635",
   "metadata": {},
   "source": [
    "# Experiment 1 : Default parameters"
   ]
  },
  {
   "cell_type": "code",
   "execution_count": 2,
   "id": "28642802",
   "metadata": {},
   "outputs": [
    {
     "name": "stdout",
     "output_type": "stream",
     "text": [
      "depth of the decision tree  7\n",
      "no of leaves of the decision tree 19\n",
      "\n",
      " train accuracy 1.0\n",
      "\n",
      " test accuracy 0.9181286549707602\n"
     ]
    }
   ],
   "source": [
    "#Load Data\n",
    "cancer_data = load_breast_cancer(as_frame=True)\n",
    "\n",
    "# get features and targets\n",
    "X = cancer_data[\"data\"]\n",
    "Y = cancer_data[\"target\"]\n",
    "\n",
    "# retrive feature name and class label values of visualization\n",
    "feature_names = cancer_data[\"feature_names\"]\n",
    "target_names = cancer_data[\"target_names\"]\n",
    "\n",
    "# split\n",
    "X_train,X_test,Y_train,Y_test=train_test_split(X,Y,test_size=0.3,random_state=0)\n",
    "\n",
    "clf = tree.DecisionTreeClassifier()\n",
    "\n",
    "# train\n",
    "clf = clf.fit(X_train,Y_train)\n",
    "\n",
    "# To know how deep our decision tree have depth\n",
    "print(\"depth of the decision tree \",clf.get_depth())\n",
    "print(\"no of leaves of the decision tree\",clf.get_n_leaves())\n",
    "\n",
    "#  To check overfitting so that we use train erro\n",
    "y_train_predicted_lables=clf.predict(X_train)\n",
    "# test error\n",
    "y_test_predicted_lables=clf.predict(X_test)\n",
    "\n",
    "# Accuracy \n",
    "print(\"\\n train accuracy\",accuracy_score(Y_train,y_train_predicted_lables))\n",
    "print(\"\\n test accuracy\", accuracy_score(Y_test,y_test_predicted_lables))\n"
   ]
  },
  {
   "cell_type": "markdown",
   "id": "a3e90917",
   "metadata": {},
   "source": [
    "# Let's visualize the decision tree which we build"
   ]
  },
  {
   "cell_type": "code",
   "execution_count": 6,
   "id": "cf2f57d2",
   "metadata": {},
   "outputs": [
    {
     "data": {
      "text/plain": [
       "'default_params.pdf'"
      ]
     },
     "execution_count": 6,
     "metadata": {},
     "output_type": "execute_result"
    }
   ],
   "source": [
    "dot_data = tree.export_graphviz(clf,feature_names=feature_names,\n",
    "                               class_names=target_names,\n",
    "                               filled=True)\n",
    "\n",
    "graph = graphviz.Source(dot_data)\n",
    "graph.render(\"default_params\")"
   ]
  },
  {
   "cell_type": "markdown",
   "id": "972b82a5",
   "metadata": {},
   "source": [
    "# Experiment 2 :max_depth"
   ]
  },
  {
   "cell_type": "code",
   "execution_count": 7,
   "id": "6461484a",
   "metadata": {},
   "outputs": [
    {
     "name": "stdout",
     "output_type": "stream",
     "text": [
      "depth of the decision tree  4\n",
      "no of leaves of the decision tree 10\n",
      "\n",
      " train accuracy 0.9773869346733668\n",
      "\n",
      " test accuracy 0.935672514619883\n"
     ]
    }
   ],
   "source": [
    "#Load Data\n",
    "cancer_data = load_breast_cancer(as_frame=True)\n",
    "\n",
    "# get features and targets\n",
    "X = cancer_data[\"data\"]\n",
    "Y = cancer_data[\"target\"]\n",
    "\n",
    "# retrive feature name and class label values of visualization\n",
    "feature_names = cancer_data[\"feature_names\"]\n",
    "target_names = cancer_data[\"target_names\"]\n",
    "\n",
    "# split\n",
    "X_train,X_test,Y_train,Y_test=train_test_split(X,Y,test_size=0.3,random_state=0)\n",
    "\n",
    "clf = tree.DecisionTreeClassifier(max_depth=4)\n",
    "\n",
    "# train\n",
    "clf = clf.fit(X_train,Y_train)\n",
    "\n",
    "# To know how deep our decision tree have depth\n",
    "print(\"depth of the decision tree \",clf.get_depth())\n",
    "print(\"no of leaves of the decision tree\",clf.get_n_leaves())\n",
    "\n",
    "#  To check overfitting so that we use train erro\n",
    "y_train_predicted_lables=clf.predict(X_train)\n",
    "# test error\n",
    "y_test_predicted_lables=clf.predict(X_test)\n",
    "\n",
    "# Accuracy \n",
    "print(\"\\n train accuracy\",accuracy_score(Y_train,y_train_predicted_lables))\n",
    "print(\"\\n test accuracy\", accuracy_score(Y_test,y_test_predicted_lables))\n"
   ]
  },
  {
   "cell_type": "markdown",
   "id": "dc270a78",
   "metadata": {},
   "source": [
    "**Experiment 2 through we doing our depth less**"
   ]
  },
  {
   "cell_type": "code",
   "execution_count": 8,
   "id": "3cc0eb27",
   "metadata": {},
   "outputs": [
    {
     "data": {
      "text/plain": [
       "'default_params.pdf'"
      ]
     },
     "execution_count": 8,
     "metadata": {},
     "output_type": "execute_result"
    }
   ],
   "source": [
    "dot_data = tree.export_graphviz(clf,feature_names=feature_names,\n",
    "                               class_names=target_names,\n",
    "                               filled=True)\n",
    "\n",
    "graph = graphviz.Source(dot_data)\n",
    "graph.render(\"default_params\")"
   ]
  },
  {
   "cell_type": "markdown",
   "id": "c31ad60e",
   "metadata": {},
   "source": [
    "# Experiment 3 : min_samples_leaf"
   ]
  },
  {
   "cell_type": "code",
   "execution_count": 9,
   "id": "1b70dbac",
   "metadata": {},
   "outputs": [
    {
     "name": "stdout",
     "output_type": "stream",
     "text": [
      "depth of the decision tree  3\n",
      "no of leaves of the decision tree 5\n",
      "\n",
      " train accuracy 0.9296482412060302\n",
      "\n",
      " test accuracy 0.8947368421052632\n"
     ]
    }
   ],
   "source": [
    "#Load Data\n",
    "cancer_data = load_breast_cancer(as_frame=True)\n",
    "\n",
    "# get features and targets\n",
    "X = cancer_data[\"data\"]\n",
    "Y = cancer_data[\"target\"]\n",
    "\n",
    "# retrive feature name and class label values of visualization\n",
    "feature_names = cancer_data[\"feature_names\"]\n",
    "target_names = cancer_data[\"target_names\"]\n",
    "\n",
    "# split\n",
    "X_train,X_test,Y_train,Y_test=train_test_split(X,Y,test_size=0.3,random_state=0)\n",
    "\n",
    "clf = tree.DecisionTreeClassifier(min_samples_leaf=50)\n",
    "\n",
    "# train\n",
    "clf = clf.fit(X_train,Y_train)\n",
    "\n",
    "# To know how deep our decision tree have depth\n",
    "print(\"depth of the decision tree \",clf.get_depth())\n",
    "print(\"no of leaves of the decision tree\",clf.get_n_leaves())\n",
    "\n",
    "#  To check overfitting so that we use train erro\n",
    "y_train_predicted_lables=clf.predict(X_train)\n",
    "# test error\n",
    "y_test_predicted_lables=clf.predict(X_test)\n",
    "\n",
    "# Accuracy \n",
    "print(\"\\n train accuracy\",accuracy_score(Y_train,y_train_predicted_lables))\n",
    "print(\"\\n test accuracy\", accuracy_score(Y_test,y_test_predicted_lables))\n"
   ]
  },
  {
   "cell_type": "code",
   "execution_count": 10,
   "id": "23bc3c5d",
   "metadata": {},
   "outputs": [
    {
     "data": {
      "text/plain": [
       "'default_params.pdf'"
      ]
     },
     "execution_count": 10,
     "metadata": {},
     "output_type": "execute_result"
    }
   ],
   "source": [
    "dot_data = tree.export_graphviz(clf,feature_names=feature_names,\n",
    "                               class_names=target_names,\n",
    "                               filled=True)\n",
    "\n",
    "graph = graphviz.Source(dot_data)\n",
    "graph.render(\"default_params\")"
   ]
  },
  {
   "cell_type": "markdown",
   "id": "379a8015",
   "metadata": {},
   "source": [
    "# Experiment Part 4 : max_leaf_nodes"
   ]
  },
  {
   "cell_type": "code",
   "execution_count": 11,
   "id": "0577e8c8",
   "metadata": {},
   "outputs": [
    {
     "name": "stdout",
     "output_type": "stream",
     "text": [
      "depth of the decision tree  5\n",
      "no of leaves of the decision tree 8\n",
      "\n",
      " train accuracy 0.9773869346733668\n",
      "\n",
      " test accuracy 0.9415204678362573\n"
     ]
    }
   ],
   "source": [
    "#Load Data\n",
    "cancer_data = load_breast_cancer(as_frame=True)\n",
    "\n",
    "# get features and targets\n",
    "X = cancer_data[\"data\"]\n",
    "Y = cancer_data[\"target\"]\n",
    "\n",
    "# retrive feature name and class label values of visualization\n",
    "feature_names = cancer_data[\"feature_names\"]\n",
    "target_names = cancer_data[\"target_names\"]\n",
    "\n",
    "# split\n",
    "X_train,X_test,Y_train,Y_test=train_test_split(X,Y,test_size=0.3,random_state=0)\n",
    "\n",
    "clf = tree.DecisionTreeClassifier(max_leaf_nodes=8)\n",
    "\n",
    "# train\n",
    "clf = clf.fit(X_train,Y_train)\n",
    "\n",
    "# To know how deep our decision tree have depth\n",
    "print(\"depth of the decision tree \",clf.get_depth())\n",
    "print(\"no of leaves of the decision tree\",clf.get_n_leaves())\n",
    "\n",
    "#  To check overfitting so that we use train erro\n",
    "y_train_predicted_lables=clf.predict(X_train)\n",
    "# test error\n",
    "y_test_predicted_lables=clf.predict(X_test)\n",
    "\n",
    "# Accuracy \n",
    "print(\"\\n train accuracy\",accuracy_score(Y_train,y_train_predicted_lables))\n",
    "print(\"\\n test accuracy\", accuracy_score(Y_test,y_test_predicted_lables))\n"
   ]
  },
  {
   "cell_type": "code",
   "execution_count": 12,
   "id": "66595227",
   "metadata": {},
   "outputs": [
    {
     "data": {
      "text/plain": [
       "'default_params.pdf'"
      ]
     },
     "execution_count": 12,
     "metadata": {},
     "output_type": "execute_result"
    }
   ],
   "source": [
    "dot_data = tree.export_graphviz(clf,feature_names=feature_names,\n",
    "                               class_names=target_names,\n",
    "                               filled=True)\n",
    "\n",
    "graph = graphviz.Source(dot_data)\n",
    "graph.render(\"default_params\")"
   ]
  },
  {
   "cell_type": "markdown",
   "id": "8cae330a",
   "metadata": {},
   "source": [
    "# Final Experiment : use all parmas max_leaf_nodes,max_depth,min_samples_leaf"
   ]
  },
  {
   "cell_type": "code",
   "execution_count": 13,
   "id": "72ccd450",
   "metadata": {},
   "outputs": [
    {
     "name": "stdout",
     "output_type": "stream",
     "text": [
      "depth of the decision tree  3\n",
      "no of leaves of the decision tree 5\n",
      "\n",
      " train accuracy 0.9296482412060302\n",
      "\n",
      " test accuracy 0.8947368421052632\n"
     ]
    }
   ],
   "source": [
    "#Load Data\n",
    "cancer_data = load_breast_cancer(as_frame=True)\n",
    "\n",
    "# get features and targets\n",
    "X = cancer_data[\"data\"]\n",
    "Y = cancer_data[\"target\"]\n",
    "\n",
    "# retrive feature name and class label values of visualization\n",
    "feature_names = cancer_data[\"feature_names\"]\n",
    "target_names = cancer_data[\"target_names\"]\n",
    "\n",
    "# split\n",
    "X_train,X_test,Y_train,Y_test=train_test_split(X,Y,test_size=0.3,random_state=0)\n",
    "\n",
    "clf = tree.DecisionTreeClassifier(max_depth=4,min_samples_leaf=50,max_leaf_nodes=8)\n",
    "\n",
    "# train\n",
    "clf = clf.fit(X_train,Y_train)\n",
    "\n",
    "# To know how deep our decision tree have depth\n",
    "print(\"depth of the decision tree \",clf.get_depth())\n",
    "print(\"no of leaves of the decision tree\",clf.get_n_leaves())\n",
    "\n",
    "#  To check overfitting so that we use train erro\n",
    "y_train_predicted_lables=clf.predict(X_train)\n",
    "# test error\n",
    "y_test_predicted_lables=clf.predict(X_test)\n",
    "\n",
    "# Accuracy \n",
    "print(\"\\n train accuracy\",accuracy_score(Y_train,y_train_predicted_lables))\n",
    "print(\"\\n test accuracy\", accuracy_score(Y_test,y_test_predicted_lables))\n"
   ]
  },
  {
   "cell_type": "code",
   "execution_count": 14,
   "id": "9e4ff7b7",
   "metadata": {},
   "outputs": [
    {
     "data": {
      "text/plain": [
       "'default_params.pdf'"
      ]
     },
     "execution_count": 14,
     "metadata": {},
     "output_type": "execute_result"
    }
   ],
   "source": [
    "dot_data = tree.export_graphviz(clf,feature_names=feature_names,\n",
    "                               class_names=target_names,\n",
    "                               filled=True)\n",
    "\n",
    "graph = graphviz.Source(dot_data)\n",
    "graph.render(\"default_params\")"
   ]
  },
  {
   "cell_type": "code",
   "execution_count": null,
   "id": "4643e554",
   "metadata": {},
   "outputs": [],
   "source": []
  }
 ],
 "metadata": {
  "kernelspec": {
   "display_name": "Python 3 (ipykernel)",
   "language": "python",
   "name": "python3"
  },
  "language_info": {
   "codemirror_mode": {
    "name": "ipython",
    "version": 3
   },
   "file_extension": ".py",
   "mimetype": "text/x-python",
   "name": "python",
   "nbconvert_exporter": "python",
   "pygments_lexer": "ipython3",
   "version": "3.10.9"
  }
 },
 "nbformat": 4,
 "nbformat_minor": 5
}
